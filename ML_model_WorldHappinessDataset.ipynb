{
 "cells": [
  {
   "cell_type": "markdown",
   "metadata": {},
   "source": [
    "# Choose Your ML Problem and Data"
   ]
  },
  {
   "cell_type": "markdown",
   "metadata": {},
   "source": [
    "Implement a model to solve a machine learning problem of your choosing. First, you will have to make some decisions, such as which model to choose and which data preparation techniques may be necessary, and formulate a project plan accordingly. \n",
    "\n",
    "In this project, you will select a data set and choose a predictive problem that the data set supports. You will then inspect the data with your problem in mind and begin to formulate your  project plan. You will create this project plan in the written assignment that follows.\n"
   ]
  },
  {
   "cell_type": "markdown",
   "metadata": {},
   "source": [
    "### Import Packages\n",
    "\n",
    "Before you get started, import a few packages. You can import additional packages that you have used in this course that you may need for this task."
   ]
  },
  {
   "cell_type": "code",
   "execution_count": 68,
   "metadata": {},
   "outputs": [],
   "source": [
    "import pandas as pd\n",
    "import numpy as np\n",
    "import os \n",
    "import matplotlib.pyplot as plt\n",
    "import seaborn as sns\n",
    "from sklearn.neighbors import KNeighborsRegressor\n",
    "from sklearn.linear_model import LinearRegression\n",
    "from sklearn.model_selection import train_test_split, GridSearchCV, KFold\n",
    "from sklearn.metrics import mean_squared_error, r2_score"
   ]
  },
  {
   "cell_type": "markdown",
   "metadata": {},
   "source": [
    "## Step 1: Choose Your Data Set and Load the Data\n",
    "\n",
    "You will have the option to choose one of four data sets that you have worked with in this program:\n",
    "\n",
    "* The \"adult\" data set that contains Census information from 1994: `adultData.csv`\n",
    "* Airbnb NYC \"listings\" data set: `airbnbListingsData.csv`\n",
    "* World Happiness Report (WHR) data set: `WHR2018Chapter2OnlineData.csv`\n",
    "* Book Review data set: `bookReviewsData.csv`\n",
    "\n",
    "Note that these are variations of the data sets that you have worked with in this program. For example, some do not include some of the preprocessing necessary for specific models. \n",
    "\n",
    "#### Load the Data Set\n",
    "\n",
    "The code cell below contains filenames (path + filename) for each of the four data sets available to you.\n",
    "\n",
    "<b>Task:</b> In the code cell below, use the same method you have been using to load the data using `pd.read_csv()` and save it to DataFrame `df`. \n",
    "\n",
    "You can load each file as a new DataFrame to inspect the data before choosing your data set."
   ]
  },
  {
   "cell_type": "code",
   "execution_count": 2,
   "metadata": {
    "scrolled": true
   },
   "outputs": [
    {
     "data": {
      "text/html": [
       "<div>\n",
       "<style scoped>\n",
       "    .dataframe tbody tr th:only-of-type {\n",
       "        vertical-align: middle;\n",
       "    }\n",
       "\n",
       "    .dataframe tbody tr th {\n",
       "        vertical-align: top;\n",
       "    }\n",
       "\n",
       "    .dataframe thead th {\n",
       "        text-align: right;\n",
       "    }\n",
       "</style>\n",
       "<table border=\"1\" class=\"dataframe\">\n",
       "  <thead>\n",
       "    <tr style=\"text-align: right;\">\n",
       "      <th></th>\n",
       "      <th>country</th>\n",
       "      <th>year</th>\n",
       "      <th>Life Ladder</th>\n",
       "      <th>Log GDP per capita</th>\n",
       "      <th>Social support</th>\n",
       "      <th>Healthy life expectancy at birth</th>\n",
       "      <th>Freedom to make life choices</th>\n",
       "      <th>Generosity</th>\n",
       "      <th>Perceptions of corruption</th>\n",
       "      <th>Positive affect</th>\n",
       "      <th>Negative affect</th>\n",
       "      <th>Confidence in national government</th>\n",
       "      <th>Democratic Quality</th>\n",
       "      <th>Delivery Quality</th>\n",
       "      <th>Standard deviation of ladder by country-year</th>\n",
       "      <th>Standard deviation/Mean of ladder by country-year</th>\n",
       "      <th>GINI index (World Bank estimate)</th>\n",
       "      <th>GINI index (World Bank estimate), average 2000-15</th>\n",
       "      <th>gini of household income reported in Gallup, by wp5-year</th>\n",
       "    </tr>\n",
       "  </thead>\n",
       "  <tbody>\n",
       "    <tr>\n",
       "      <th>0</th>\n",
       "      <td>Afghanistan</td>\n",
       "      <td>2008</td>\n",
       "      <td>3.723590</td>\n",
       "      <td>7.168690</td>\n",
       "      <td>0.450662</td>\n",
       "      <td>49.209663</td>\n",
       "      <td>0.718114</td>\n",
       "      <td>0.181819</td>\n",
       "      <td>0.881686</td>\n",
       "      <td>0.517637</td>\n",
       "      <td>0.258195</td>\n",
       "      <td>0.612072</td>\n",
       "      <td>-1.929690</td>\n",
       "      <td>-1.655084</td>\n",
       "      <td>1.774662</td>\n",
       "      <td>0.476600</td>\n",
       "      <td>NaN</td>\n",
       "      <td>NaN</td>\n",
       "      <td>NaN</td>\n",
       "    </tr>\n",
       "    <tr>\n",
       "      <th>1</th>\n",
       "      <td>Afghanistan</td>\n",
       "      <td>2009</td>\n",
       "      <td>4.401778</td>\n",
       "      <td>7.333790</td>\n",
       "      <td>0.552308</td>\n",
       "      <td>49.624432</td>\n",
       "      <td>0.678896</td>\n",
       "      <td>0.203614</td>\n",
       "      <td>0.850035</td>\n",
       "      <td>0.583926</td>\n",
       "      <td>0.237092</td>\n",
       "      <td>0.611545</td>\n",
       "      <td>-2.044093</td>\n",
       "      <td>-1.635025</td>\n",
       "      <td>1.722688</td>\n",
       "      <td>0.391362</td>\n",
       "      <td>NaN</td>\n",
       "      <td>NaN</td>\n",
       "      <td>0.441906</td>\n",
       "    </tr>\n",
       "    <tr>\n",
       "      <th>2</th>\n",
       "      <td>Afghanistan</td>\n",
       "      <td>2010</td>\n",
       "      <td>4.758381</td>\n",
       "      <td>7.386629</td>\n",
       "      <td>0.539075</td>\n",
       "      <td>50.008961</td>\n",
       "      <td>0.600127</td>\n",
       "      <td>0.137630</td>\n",
       "      <td>0.706766</td>\n",
       "      <td>0.618265</td>\n",
       "      <td>0.275324</td>\n",
       "      <td>0.299357</td>\n",
       "      <td>-1.991810</td>\n",
       "      <td>-1.617176</td>\n",
       "      <td>1.878622</td>\n",
       "      <td>0.394803</td>\n",
       "      <td>NaN</td>\n",
       "      <td>NaN</td>\n",
       "      <td>0.327318</td>\n",
       "    </tr>\n",
       "    <tr>\n",
       "      <th>3</th>\n",
       "      <td>Afghanistan</td>\n",
       "      <td>2011</td>\n",
       "      <td>3.831719</td>\n",
       "      <td>7.415019</td>\n",
       "      <td>0.521104</td>\n",
       "      <td>50.367298</td>\n",
       "      <td>0.495901</td>\n",
       "      <td>0.175329</td>\n",
       "      <td>0.731109</td>\n",
       "      <td>0.611387</td>\n",
       "      <td>0.267175</td>\n",
       "      <td>0.307386</td>\n",
       "      <td>-1.919018</td>\n",
       "      <td>-1.616221</td>\n",
       "      <td>1.785360</td>\n",
       "      <td>0.465942</td>\n",
       "      <td>NaN</td>\n",
       "      <td>NaN</td>\n",
       "      <td>0.336764</td>\n",
       "    </tr>\n",
       "    <tr>\n",
       "      <th>4</th>\n",
       "      <td>Afghanistan</td>\n",
       "      <td>2012</td>\n",
       "      <td>3.782938</td>\n",
       "      <td>7.517126</td>\n",
       "      <td>0.520637</td>\n",
       "      <td>50.709263</td>\n",
       "      <td>0.530935</td>\n",
       "      <td>0.247159</td>\n",
       "      <td>0.775620</td>\n",
       "      <td>0.710385</td>\n",
       "      <td>0.267919</td>\n",
       "      <td>0.435440</td>\n",
       "      <td>-1.842996</td>\n",
       "      <td>-1.404078</td>\n",
       "      <td>1.798283</td>\n",
       "      <td>0.475367</td>\n",
       "      <td>NaN</td>\n",
       "      <td>NaN</td>\n",
       "      <td>0.344540</td>\n",
       "    </tr>\n",
       "  </tbody>\n",
       "</table>\n",
       "</div>"
      ],
      "text/plain": [
       "       country  year  Life Ladder  Log GDP per capita  Social support  \\\n",
       "0  Afghanistan  2008     3.723590            7.168690        0.450662   \n",
       "1  Afghanistan  2009     4.401778            7.333790        0.552308   \n",
       "2  Afghanistan  2010     4.758381            7.386629        0.539075   \n",
       "3  Afghanistan  2011     3.831719            7.415019        0.521104   \n",
       "4  Afghanistan  2012     3.782938            7.517126        0.520637   \n",
       "\n",
       "   Healthy life expectancy at birth  Freedom to make life choices  Generosity  \\\n",
       "0                         49.209663                      0.718114    0.181819   \n",
       "1                         49.624432                      0.678896    0.203614   \n",
       "2                         50.008961                      0.600127    0.137630   \n",
       "3                         50.367298                      0.495901    0.175329   \n",
       "4                         50.709263                      0.530935    0.247159   \n",
       "\n",
       "   Perceptions of corruption  Positive affect  Negative affect  \\\n",
       "0                   0.881686         0.517637         0.258195   \n",
       "1                   0.850035         0.583926         0.237092   \n",
       "2                   0.706766         0.618265         0.275324   \n",
       "3                   0.731109         0.611387         0.267175   \n",
       "4                   0.775620         0.710385         0.267919   \n",
       "\n",
       "   Confidence in national government  Democratic Quality  Delivery Quality  \\\n",
       "0                           0.612072           -1.929690         -1.655084   \n",
       "1                           0.611545           -2.044093         -1.635025   \n",
       "2                           0.299357           -1.991810         -1.617176   \n",
       "3                           0.307386           -1.919018         -1.616221   \n",
       "4                           0.435440           -1.842996         -1.404078   \n",
       "\n",
       "   Standard deviation of ladder by country-year  \\\n",
       "0                                      1.774662   \n",
       "1                                      1.722688   \n",
       "2                                      1.878622   \n",
       "3                                      1.785360   \n",
       "4                                      1.798283   \n",
       "\n",
       "   Standard deviation/Mean of ladder by country-year  \\\n",
       "0                                           0.476600   \n",
       "1                                           0.391362   \n",
       "2                                           0.394803   \n",
       "3                                           0.465942   \n",
       "4                                           0.475367   \n",
       "\n",
       "   GINI index (World Bank estimate)  \\\n",
       "0                               NaN   \n",
       "1                               NaN   \n",
       "2                               NaN   \n",
       "3                               NaN   \n",
       "4                               NaN   \n",
       "\n",
       "   GINI index (World Bank estimate), average 2000-15  \\\n",
       "0                                                NaN   \n",
       "1                                                NaN   \n",
       "2                                                NaN   \n",
       "3                                                NaN   \n",
       "4                                                NaN   \n",
       "\n",
       "   gini of household income reported in Gallup, by wp5-year  \n",
       "0                                                NaN         \n",
       "1                                           0.441906         \n",
       "2                                           0.327318         \n",
       "3                                           0.336764         \n",
       "4                                           0.344540         "
      ]
     },
     "execution_count": 2,
     "metadata": {},
     "output_type": "execute_result"
    }
   ],
   "source": [
    "# File names of the four data sets\n",
    "adultDataSet_filename = os.path.join(os.getcwd(), \"data\", \"adultData.csv\")\n",
    "airbnbDataSet_filename = os.path.join(os.getcwd(), \"data\", \"airbnbListingsData.csv\")\n",
    "WHRDataSet_filename = os.path.join(os.getcwd(), \"data\", \"WHR2018Chapter2OnlineData.csv\")\n",
    "bookReviewDataSet_filename = os.path.join(os.getcwd(), \"data\", \"bookReviewsData.csv\")\n",
    "\n",
    "\n",
    "df = pd.read_csv(WHRDataSet_filename, header=0 )\n",
    "\n",
    "df.head()"
   ]
  },
  {
   "cell_type": "markdown",
   "metadata": {},
   "source": [
    "The label for the dataset I have chosen is the \"confidence in national government\". It is a regression problem as I am trying to predict the percent confidence people have in govenment."
   ]
  },
  {
   "cell_type": "markdown",
   "metadata": {},
   "source": [
    "## Step 2: Choose Your Predictive Problem and Label \n",
    "\n",
    "Now that you have chosen your data set, you can: \n",
    "\n",
    "1. Choose what you would like to predict (i.e. the label) \n",
    "2. Identify your problem type: is it a classification or regression problem?\n",
    "\n",
    "<b>Task:</b> In the markdown cell below, state what you are predicting (the label) and whether this is a classification or regression problem."
   ]
  },
  {
   "cell_type": "markdown",
   "metadata": {},
   "source": [
    "The label for the data I have chosen is \"Perceptions of corruption\". This is a regression type of problem as we are predicting the percent of percent of corruption given the data we have. "
   ]
  },
  {
   "cell_type": "markdown",
   "metadata": {},
   "source": [
    "## Step 3: Inspect Your Data"
   ]
  },
  {
   "cell_type": "markdown",
   "metadata": {},
   "source": [
    "In the code cell below, use some of the techniques you have learned in this course to take a look at your data. As you are investigating your data, consider the following to help you formulate your project plan:\n",
    "\n",
    "1. What are my features?\n",
    "5. Which model (or models) should I select that is appropriate for my machine learning problem and data?\n",
    "6. Which data preparation techniques may be needed for my model (e.g. perform one-hot encoding)?\n",
    "7. Which techniques should I use to evaluate my model's performance and improve my model?\n",
    "\n",
    "<b>Task</b>: Use the techniques you have learned in this course to inspect your data.\n",
    "\n"
   ]
  },
  {
   "cell_type": "markdown",
   "metadata": {},
   "source": [
    "In the dataset that I have there aren’t really a lot of features, so it is possible to use all the features.\n",
    "I am going to use a K-nearest regressor model and Linear Regression for this dataset.\n",
    "I am going to remove all the null values and drop the columns that have too many null values, so that my data is clean and preprocessed.\n",
    "The evaluation matrix for my model would be RMSE, MSE and R2 scores. \n",
    "0.20 would be my test size for this model, I will most likely use grid search and K Folds for my model as my dataset is quite small and having separate sets for validation and test seems quite hard, also I will train two models and compare the results to see which model is better for my business problem and which model would provide optimal results. "
   ]
  },
  {
   "cell_type": "code",
   "execution_count": 3,
   "metadata": {
    "scrolled": true
   },
   "outputs": [
    {
     "data": {
      "text/plain": [
       "['country',\n",
       " 'year',\n",
       " 'Life Ladder',\n",
       " 'Log GDP per capita',\n",
       " 'Social support',\n",
       " 'Healthy life expectancy at birth',\n",
       " 'Freedom to make life choices',\n",
       " 'Generosity',\n",
       " 'Perceptions of corruption',\n",
       " 'Positive affect',\n",
       " 'Negative affect',\n",
       " 'Confidence in national government',\n",
       " 'Democratic Quality',\n",
       " 'Delivery Quality',\n",
       " 'Standard deviation of ladder by country-year',\n",
       " 'Standard deviation/Mean of ladder by country-year',\n",
       " 'GINI index (World Bank estimate)',\n",
       " 'GINI index (World Bank estimate), average 2000-15',\n",
       " 'gini of household income reported in Gallup, by wp5-year']"
      ]
     },
     "execution_count": 3,
     "metadata": {},
     "output_type": "execute_result"
    }
   ],
   "source": [
    "df.columns.tolist()"
   ]
  },
  {
   "cell_type": "code",
   "execution_count": 4,
   "metadata": {},
   "outputs": [
    {
     "data": {
      "text/plain": [
       "(1562, 19)"
      ]
     },
     "execution_count": 4,
     "metadata": {},
     "output_type": "execute_result"
    }
   ],
   "source": [
    "df.shape"
   ]
  },
  {
   "cell_type": "code",
   "execution_count": 5,
   "metadata": {},
   "outputs": [
    {
     "data": {
      "text/plain": [
       "country                                                       0\n",
       "year                                                          0\n",
       "Life Ladder                                                   0\n",
       "Log GDP per capita                                           27\n",
       "Social support                                               13\n",
       "Healthy life expectancy at birth                              9\n",
       "Freedom to make life choices                                 29\n",
       "Generosity                                                   80\n",
       "Perceptions of corruption                                    90\n",
       "Positive affect                                              18\n",
       "Negative affect                                              12\n",
       "Confidence in national government                           161\n",
       "Democratic Quality                                          171\n",
       "Delivery Quality                                            171\n",
       "Standard deviation of ladder by country-year                  0\n",
       "Standard deviation/Mean of ladder by country-year             0\n",
       "GINI index (World Bank estimate)                            979\n",
       "GINI index (World Bank estimate), average 2000-15           176\n",
       "gini of household income reported in Gallup, by wp5-year    357\n",
       "dtype: int64"
      ]
     },
     "execution_count": 5,
     "metadata": {},
     "output_type": "execute_result"
    }
   ],
   "source": [
    "#To get a sense of how much preprocessing we have to do we can look at the number of null values\n",
    "#in a feature. \n",
    "df.isnull().values.any()\n",
    "nan_count = np.sum(df.isnull(), axis = 0) \n",
    "nan_count"
   ]
  },
  {
   "cell_type": "code",
   "execution_count": 6,
   "metadata": {},
   "outputs": [
    {
     "data": {
      "text/plain": [
       "(1562, 16)"
      ]
     },
     "execution_count": 6,
     "metadata": {},
     "output_type": "execute_result"
    }
   ],
   "source": [
    "'''One major thing to notice about this is features like 'GINI index (World Bank estimate)' and \n",
    "'gini of household income reported in Gallup, by wp5-yea' have too many null values and that too \n",
    "in a dataset that does not have too many examples, so the best thing to do for these features \n",
    "would be dropping them.'''\n",
    "df.drop(columns=['GINI index (World Bank estimate)'], inplace=True)\n",
    "df.drop(columns=['GINI index (World Bank estimate), average 2000-15'], inplace=True)\n",
    "df.drop(columns=['gini of household income reported in Gallup, by wp5-year'], inplace=True)\n",
    "df.shape"
   ]
  },
  {
   "cell_type": "code",
   "execution_count": 7,
   "metadata": {},
   "outputs": [
    {
     "data": {
      "text/plain": [
       "country                                              False\n",
       "year                                                  True\n",
       "Life Ladder                                           True\n",
       "Log GDP per capita                                    True\n",
       "Social support                                        True\n",
       "Healthy life expectancy at birth                      True\n",
       "Freedom to make life choices                          True\n",
       "Generosity                                            True\n",
       "Perceptions of corruption                             True\n",
       "Positive affect                                       True\n",
       "Negative affect                                       True\n",
       "Confidence in national government                     True\n",
       "Democratic Quality                                    True\n",
       "Delivery Quality                                      True\n",
       "Standard deviation of ladder by country-year          True\n",
       "Standard deviation/Mean of ladder by country-year     True\n",
       "dtype: bool"
      ]
     },
     "execution_count": 7,
     "metadata": {},
     "output_type": "execute_result"
    }
   ],
   "source": [
    "is_int_or_float = (df.dtypes == np.int64) | (df.dtypes == np.float64)\n",
    "is_int_or_float"
   ]
  },
  {
   "cell_type": "code",
   "execution_count": null,
   "metadata": {},
   "outputs": [],
   "source": []
  },
  {
   "cell_type": "code",
   "execution_count": null,
   "metadata": {},
   "outputs": [],
   "source": [
    "'''All the features that have the null values are int or float types therefore we can technically\n",
    "replace all the null vals with feature mean.'''"
   ]
  },
  {
   "cell_type": "code",
   "execution_count": 8,
   "metadata": {},
   "outputs": [],
   "source": [
    "has_null = df.columns[df.isnull().any()].tolist()\n",
    "for column in has_null:\n",
    "    column_mean = df[column].mean()\n",
    "    df[column].fillna(column_mean, inplace=True)"
   ]
  },
  {
   "cell_type": "code",
   "execution_count": 10,
   "metadata": {},
   "outputs": [
    {
     "data": {
      "text/plain": [
       "country                                              False\n",
       "year                                                 False\n",
       "Life Ladder                                          False\n",
       "Log GDP per capita                                   False\n",
       "Social support                                       False\n",
       "Healthy life expectancy at birth                     False\n",
       "Freedom to make life choices                         False\n",
       "Generosity                                           False\n",
       "Perceptions of corruption                            False\n",
       "Positive affect                                      False\n",
       "Negative affect                                      False\n",
       "Confidence in national government                    False\n",
       "Democratic Quality                                   False\n",
       "Delivery Quality                                     False\n",
       "Standard deviation of ladder by country-year         False\n",
       "Standard deviation/Mean of ladder by country-year    False\n",
       "dtype: bool"
      ]
     },
     "execution_count": 10,
     "metadata": {},
     "output_type": "execute_result"
    }
   ],
   "source": [
    "#lets check if we have removed all the the null values \n",
    "df.isnull().any()\n"
   ]
  },
  {
   "cell_type": "code",
   "execution_count": 61,
   "metadata": {},
   "outputs": [],
   "source": [
    "'''Now that we have pre-processed the data we can actually move on to creating our model'''\n",
    "y = df['Perceptions of corruption']\n",
    "X = df.drop(columns = ['Perceptions of corruption', 'country'], axis = 1)"
   ]
  },
  {
   "cell_type": "code",
   "execution_count": 62,
   "metadata": {},
   "outputs": [],
   "source": [
    "X_train, X_test, y_train, y_test = train_test_split(X, y, test_size= 0.20, random_state=1234)"
   ]
  },
  {
   "cell_type": "code",
   "execution_count": 63,
   "metadata": {},
   "outputs": [
    {
     "name": "stdout",
     "output_type": "stream",
     "text": [
      "(1249, 14)\n",
      "(313, 14)\n"
     ]
    }
   ],
   "source": [
    "print(X_train.shape)\n",
    "print(X_test.shape)"
   ]
  },
  {
   "cell_type": "code",
   "execution_count": 64,
   "metadata": {},
   "outputs": [
    {
     "data": {
      "text/plain": [
       "{'n_neighbors': [2, 5, 9, 13, 16, 20, 24, 27, 31, 35]}"
      ]
     },
     "execution_count": 64,
     "metadata": {},
     "output_type": "execute_result"
    }
   ],
   "source": [
    "num_examples = len(X_train)\n",
    "\n",
    "param_grid = {'n_neighbors': (np.linspace(2, np.sqrt(num_examples), num=10, dtype=int)).tolist()}\n",
    "\n",
    "param_grid"
   ]
  },
  {
   "cell_type": "code",
   "execution_count": 65,
   "metadata": {},
   "outputs": [],
   "source": [
    "model = KNeighborsRegressor()\n",
    "\n",
    "grid = GridSearchCV(model, param_grid, cv=5)\n",
    "\n",
    "grid_search = grid.fit(X_train, y_train)"
   ]
  },
  {
   "cell_type": "code",
   "execution_count": 51,
   "metadata": {},
   "outputs": [],
   "source": [
    "best_n = grid_search.best_estimator_.n_neighbors"
   ]
  },
  {
   "cell_type": "code",
   "execution_count": 52,
   "metadata": {},
   "outputs": [
    {
     "name": "stdout",
     "output_type": "stream",
     "text": [
      "Mean Squared Error: 0.015130271399414771\n",
      "R2_score: 0.4407402329444323\n"
     ]
    }
   ],
   "source": [
    "model_best = KNeighborsRegressor(n_neighbors=best_n)\n",
    "model_best.fit(X_train, y_train)\n",
    "class_label_predictions = model_best.predict(X_test)\n",
    "mse = mean_squared_error(y_test, class_label_predictions)\n",
    "print(\"Mean Squared Error:\", mse)\n",
    "r2 = r2_score(y_test, class_label_predictions)\n",
    "print(\"R2_score:\", r2)"
   ]
  },
  {
   "cell_type": "code",
   "execution_count": 69,
   "metadata": {},
   "outputs": [
    {
     "name": "stdout",
     "output_type": "stream",
     "text": [
      "[LR] Root Mean Squared Error: 0.12201210213114612\n",
      "[LR] R2: 0.4497340011734152\n"
     ]
    }
   ],
   "source": [
    "lr_model =  LinearRegression()\n",
    "\n",
    "# 2. Fit the model to the training data below\n",
    "lr_model.fit(X_train, y_train)\n",
    "\n",
    "# 3.  Call predict() to use the fitted model to make predictions on the test data. Save the results to variable\n",
    "# 'y_lr_pred'\n",
    "y_lr_pred = lr_model.predict(X_test)\n",
    "\n",
    "# 4: Compute the RMSE and R2 (on y_test and y_lr_pred) and save the results to lr_rmse and lr_r2\n",
    "lr_rmse= mean_squared_error(y_test, y_lr_pred, squared=False)\n",
    "lr_r2 = r2_score(y_test, y_lr_pred)\n",
    "\n",
    "\n",
    "print('[LR] Root Mean Squared Error: {0}'.format(lr_rmse))\n",
    "print('[LR] R2: {0}'.format(lr_r2))"
   ]
  },
  {
   "cell_type": "code",
   "execution_count": null,
   "metadata": {},
   "outputs": [],
   "source": [
    "''' The mean squared error is less than 1% for KNN which seems really good for training and R2 score is a \n",
    "little low we might want to re eavaluate the model to obtain even better scores for our model, also\n",
    "look a little deeper on what could be causing such a low score for mean squared error. '''\n",
    "'''LR model has a slightly higher R2 but it has a greater root mean squared error we have to\n",
    "look which model would be better once we have more data.'''"
   ]
  }
 ],
 "metadata": {
  "kernelspec": {
   "display_name": "Python 3",
   "language": "python",
   "name": "python3"
  },
  "language_info": {
   "codemirror_mode": {
    "name": "ipython",
    "version": 3
   },
   "file_extension": ".py",
   "mimetype": "text/x-python",
   "name": "python",
   "nbconvert_exporter": "python",
   "pygments_lexer": "ipython3",
   "version": "3.6.9"
  },
  "toc": {
   "base_numbering": 1,
   "nav_menu": {},
   "number_sections": false,
   "sideBar": true,
   "skip_h1_title": false,
   "title_cell": "Table of Contents",
   "title_sidebar": "Contents",
   "toc_cell": false,
   "toc_position": {},
   "toc_section_display": true,
   "toc_window_display": false
  },
  "varInspector": {
   "cols": {
    "lenName": 16,
    "lenType": 16,
    "lenVar": 40
   },
   "kernels_config": {
    "python": {
     "delete_cmd_postfix": "",
     "delete_cmd_prefix": "del ",
     "library": "var_list.py",
     "varRefreshCmd": "print(var_dic_list())"
    },
    "r": {
     "delete_cmd_postfix": ") ",
     "delete_cmd_prefix": "rm(",
     "library": "var_list.r",
     "varRefreshCmd": "cat(var_dic_list()) "
    }
   },
   "types_to_exclude": [
    "module",
    "function",
    "builtin_function_or_method",
    "instance",
    "_Feature"
   ],
   "window_display": false
  }
 },
 "nbformat": 4,
 "nbformat_minor": 2
}
